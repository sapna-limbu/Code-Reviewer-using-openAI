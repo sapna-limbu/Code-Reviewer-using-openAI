{
 "cells": [
  {
   "cell_type": "code",
   "execution_count": 7,
   "id": "340eeb82",
   "metadata": {},
   "outputs": [],
   "source": [
    "from openai import OpenAI\n",
    "import os"
   ]
  },
  {
   "cell_type": "code",
   "execution_count": 8,
   "id": "70d5a342",
   "metadata": {},
   "outputs": [],
   "source": [
    "try:\n",
    "    # Specify the directory path\n",
    "    directory = r\"C:\\Users\\RATNADEEP\\Desktop\\backend\\openAi\"\n",
    "    file_name = '.openai_api_key.txt'\n",
    "    \n",
    "    # Combine the directory path with the file name\n",
    "    file_path = os.path.join(directory, file_name)\n",
    "\n",
    "    # Open the file\n",
    "    with open(file_path) as f:\n",
    "        # Read the API key\n",
    "        OPENAI_API_KEY = f.read().strip()  # Remove leading/trailing whitespace\n",
    "    \n",
    "    # Initialize the OpenAI client\n",
    "    client = OpenAI(api_key=OPENAI_API_KEY)\n",
    "\n",
    "    # Now you can use the OpenAI client as needed\n",
    "except FileNotFoundError:\n",
    "    print(f\"File '{file_path}' not found. Please make sure the file exists in the specified directory.\")\n",
    "except Exception as e:\n",
    "    print(\"An error occurred:\", e)\n"
   ]
  },
  {
   "cell_type": "code",
   "execution_count": null,
   "id": "d9027422",
   "metadata": {},
   "outputs": [],
   "source": []
  },
  {
   "cell_type": "code",
   "execution_count": 13,
   "id": "6a7f0710",
   "metadata": {},
   "outputs": [],
   "source": [
    "def code_rev(prompt):\n",
    "    response = client.chat.completions.create(\n",
    "        model=\"gpt-3.5-turbo-0125\",\n",
    "        messages=[\n",
    "           {\"role\": \"system\", \"content\": \"\"\"you are a helpful AI Assistant. \n",
    "                                      Given a Python code review app for bug detection and write the corrrected code\"\"\"},  # Adjusted indentation\n",
    "           {\"role\": \"user\", \"content\": prompt}\n",
    "       ]\n",
    "   )\n",
    "\n",
    "    return response.choices[0].message.content\n"
   ]
  },
  {
   "cell_type": "code",
   "execution_count": 14,
   "id": "b9aff127",
   "metadata": {},
   "outputs": [
    {
     "name": "stdout",
     "output_type": "stream",
     "text": [
      "Enter your code: def add (a+b):  returm a,b\n",
      "Sure, here is the corrected code:\n",
      "\n",
      "```python\n",
      "def add(a, b):\n",
      "    return a + b\n",
      "```\n",
      "\n",
      "In the corrected code:\n",
      "- Removed unnecessary parentheses around the parameters `a` and `b`.\n",
      "- Corrected the spelling of `return`.\n",
      "- Added a comma between `a` and `b` to correctly return the sum of `a` and `b`.\n"
     ]
    }
   ],
   "source": [
    "prompt = input(\"Enter your code: \")\n",
    "print(code_rev(prompt))"
   ]
  },
  {
   "cell_type": "code",
   "execution_count": null,
   "id": "5dafd4f0",
   "metadata": {},
   "outputs": [],
   "source": []
  },
  {
   "cell_type": "code",
   "execution_count": null,
   "id": "41d46bd7",
   "metadata": {},
   "outputs": [],
   "source": []
  },
  {
   "cell_type": "code",
   "execution_count": null,
   "id": "4b977be0",
   "metadata": {},
   "outputs": [],
   "source": []
  },
  {
   "cell_type": "code",
   "execution_count": null,
   "id": "3d847023",
   "metadata": {},
   "outputs": [],
   "source": []
  },
  {
   "cell_type": "code",
   "execution_count": null,
   "id": "cc083bdb",
   "metadata": {},
   "outputs": [],
   "source": []
  },
  {
   "cell_type": "code",
   "execution_count": null,
   "id": "cb618281",
   "metadata": {},
   "outputs": [],
   "source": []
  },
  {
   "cell_type": "code",
   "execution_count": null,
   "id": "a04a3965",
   "metadata": {},
   "outputs": [],
   "source": []
  },
  {
   "cell_type": "code",
   "execution_count": null,
   "id": "4a2593db",
   "metadata": {},
   "outputs": [],
   "source": []
  }
 ],
 "metadata": {
  "kernelspec": {
   "display_name": "Python 3 (ipykernel)",
   "language": "python",
   "name": "python3"
  },
  "language_info": {
   "codemirror_mode": {
    "name": "ipython",
    "version": 3
   },
   "file_extension": ".py",
   "mimetype": "text/x-python",
   "name": "python",
   "nbconvert_exporter": "python",
   "pygments_lexer": "ipython3",
   "version": "3.11.4"
  }
 },
 "nbformat": 4,
 "nbformat_minor": 5
}
